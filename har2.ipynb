{
 "cells": [
  {
   "cell_type": "code",
   "execution_count": 3,
   "metadata": {},
   "outputs": [],
   "source": [
    "import pandas as pd\n",
    "import numpy as np"
   ]
  },
  {
   "cell_type": "code",
   "execution_count": 4,
   "metadata": {},
   "outputs": [],
   "source": [
    "# Activities are the class labels\n",
    "# It is a 6 class classification\n",
    "ACTIVITIES = {\n",
    "    0: 'WALKING',\n",
    "    1: 'WALKING_UPSTAIRS',\n",
    "    2: 'WALKING_DOWNSTAIRS',\n",
    "    3: 'SITTING',\n",
    "    4: 'STANDING',\n",
    "    5: 'LAYING',\n",
    "}\n",
    "\n",
    "# Utility function to print the confusion matrix\n",
    "def confusion_matrix(Y_true, Y_pred):\n",
    "    Y_true = pd.Series([ACTIVITIES[y] for y in np.argmax(Y_true, axis=1)])\n",
    "    Y_pred = pd.Series([ACTIVITIES[y] for y in np.argmax(Y_pred, axis=1)])\n",
    "\n",
    "    return pd.crosstab(Y_true, Y_pred, rownames=['True'], colnames=['Pred'])"
   ]
  },
  {
   "cell_type": "code",
   "execution_count": 5,
   "metadata": {},
   "outputs": [],
   "source": [
    "# Data directory\n",
    "DATADIR = 'UCI_HAR_Dataset'"
   ]
  },
  {
   "cell_type": "code",
   "execution_count": 6,
   "metadata": {},
   "outputs": [],
   "source": [
    "# Raw data signals\n",
    "# Signals are from Accelerometer and Gyroscope\n",
    "# The signals are in x,y,z directions\n",
    "# Sensor signals are filtered to have only body acceleration\n",
    "# excluding the acceleration due to gravity\n",
    "# Triaxial acceleration from the accelerometer is total acceleration\n",
    "SIGNALS = [\n",
    "    \"body_acc_x\",\n",
    "    \"body_acc_y\",\n",
    "    \"body_acc_z\",\n",
    "    \"body_gyro_x\",\n",
    "    \"body_gyro_y\",\n",
    "    \"body_gyro_z\",\n",
    "    \"total_acc_x\",\n",
    "    \"total_acc_y\",\n",
    "    \"total_acc_z\"\n",
    "]"
   ]
  },
  {
   "cell_type": "code",
   "execution_count": 7,
   "metadata": {},
   "outputs": [],
   "source": [
    "# Utility function to read the data from csv file\n",
    "def _read_csv(filename):\n",
    "    return pd.read_csv(filename, delim_whitespace=True, header=None)\n",
    "\n",
    "# Utility function to load the load\n",
    "def load_signals(subset):\n",
    "    signals_data = []\n",
    "\n",
    "    for signal in SIGNALS:\n",
    "        filename = f'UCI_HAR_Dataset/{subset}/Inertial Signals/{signal}_{subset}.txt'\n",
    "        signals_data.append(\n",
    "            _read_csv(filename).as_matrix()\n",
    "        ) \n",
    "\n",
    "    # Transpose is used to change the dimensionality of the output,\n",
    "    # aggregating the signals by combination of sample/timestep.\n",
    "    # Resultant shape is (7352 train/2947 test samples, 128 timesteps, 9 signals)\n",
    "    return np.transpose(signals_data, (1, 2, 0))"
   ]
  },
  {
   "cell_type": "code",
   "execution_count": 8,
   "metadata": {},
   "outputs": [],
   "source": [
    "\n",
    "def load_y(subset):\n",
    "    \"\"\"\n",
    "    The objective that we are trying to predict is a integer, from 1 to 6,\n",
    "    that represents a human activity. We return a binary representation of \n",
    "    every sample objective as a 6 bits vector using One Hot Encoding\n",
    "    (https://pandas.pydata.org/pandas-docs/stable/generated/pandas.get_dummies.html)\n",
    "    \"\"\"\n",
    "    filename = f'UCI_HAR_Dataset/{subset}/y_{subset}.txt'\n",
    "    y = _read_csv(filename)[0]\n",
    "\n",
    "    return pd.get_dummies(y).as_matrix()"
   ]
  },
  {
   "cell_type": "code",
   "execution_count": 9,
   "metadata": {},
   "outputs": [],
   "source": [
    "def load_data():\n",
    "    \"\"\"\n",
    "    Obtain the dataset from multiple files.\n",
    "    Returns: X_train, X_test, y_train, y_test\n",
    "    \"\"\"\n",
    "    X_train, X_test = load_signals('train'), load_signals('test')\n",
    "    y_train, y_test = load_y('train'), load_y('test')\n",
    "\n",
    "    return X_train, X_test, y_train, y_test"
   ]
  },
  {
   "cell_type": "code",
   "execution_count": 10,
   "metadata": {},
   "outputs": [
    {
     "name": "stderr",
     "output_type": "stream",
     "text": [
      "C:\\Users\\CHALLA VENKAT RAO\\Anaconda3\\lib\\site-packages\\h5py\\__init__.py:36: FutureWarning: Conversion of the second argument of issubdtype from `float` to `np.floating` is deprecated. In future, it will be treated as `np.float64 == np.dtype(float).type`.\n",
      "  from ._conv import register_converters as _register_converters\n"
     ]
    }
   ],
   "source": [
    "# Importing tensorflow\n",
    "np.random.seed(42)\n",
    "import tensorflow as tf\n",
    "tf.set_random_seed(42)"
   ]
  },
  {
   "cell_type": "code",
   "execution_count": 11,
   "metadata": {},
   "outputs": [],
   "source": [
    "# Configuring a session\n",
    "session_conf = tf.ConfigProto(\n",
    "    intra_op_parallelism_threads=1,\n",
    "    inter_op_parallelism_threads=1\n",
    ")"
   ]
  },
  {
   "cell_type": "code",
   "execution_count": 12,
   "metadata": {},
   "outputs": [
    {
     "name": "stderr",
     "output_type": "stream",
     "text": [
      "Using TensorFlow backend.\n"
     ]
    }
   ],
   "source": [
    "# Import Keras\n",
    "from keras import backend as K\n",
    "sess = tf.Session(graph=tf.get_default_graph(), config=session_conf)\n",
    "K.set_session(sess)"
   ]
  },
  {
   "cell_type": "code",
   "execution_count": 13,
   "metadata": {},
   "outputs": [],
   "source": [
    "# Importing libraries\n",
    "from keras.models import Sequential\n",
    "from keras.layers import LSTM\n",
    "from keras.layers.core import Dense, Dropout"
   ]
  },
  {
   "cell_type": "code",
   "execution_count": 14,
   "metadata": {},
   "outputs": [],
   "source": [
    "# Initializing parameters\n",
    "epochs = 30\n",
    "batch_size = 16\n",
    "n_hidden = 40"
   ]
  },
  {
   "cell_type": "code",
   "execution_count": 15,
   "metadata": {},
   "outputs": [],
   "source": [
    "# Utility function to count the number of classes\n",
    "def _count_classes(y):\n",
    "    return len(set([tuple(category) for category in y]))"
   ]
  },
  {
   "cell_type": "code",
   "execution_count": 16,
   "metadata": {},
   "outputs": [
    {
     "name": "stderr",
     "output_type": "stream",
     "text": [
      "C:\\Users\\CHALLA VENKAT RAO\\Anaconda3\\lib\\site-packages\\ipykernel_launcher.py:12: FutureWarning: Method .as_matrix will be removed in a future version. Use .values instead.\n",
      "  if sys.path[0] == '':\n"
     ]
    }
   ],
   "source": [
    "# Loading the train and test data\n",
    "X_train, X_test, Y_train, Y_test = load_data()"
   ]
  },
  {
   "cell_type": "code",
   "execution_count": 17,
   "metadata": {},
   "outputs": [
    {
     "name": "stdout",
     "output_type": "stream",
     "text": [
      "128\n",
      "9\n",
      "7352\n"
     ]
    }
   ],
   "source": [
    "timesteps = len(X_train[0])\n",
    "input_dim = len(X_train[0][0])\n",
    "n_classes = _count_classes(Y_train)\n",
    "\n",
    "print(timesteps)\n",
    "print(input_dim)\n",
    "print(len(X_train))"
   ]
  },
  {
   "cell_type": "code",
   "execution_count": 18,
   "metadata": {},
   "outputs": [
    {
     "name": "stdout",
     "output_type": "stream",
     "text": [
      "_________________________________________________________________\n",
      "Layer (type)                 Output Shape              Param #   \n",
      "=================================================================\n",
      "lstm_1 (LSTM)                (None, 128, 40)           8000      \n",
      "_________________________________________________________________\n",
      "dropout_1 (Dropout)          (None, 128, 40)           0         \n",
      "_________________________________________________________________\n",
      "lstm_2 (LSTM)                (None, 40)                12960     \n",
      "_________________________________________________________________\n",
      "dropout_2 (Dropout)          (None, 40)                0         \n",
      "_________________________________________________________________\n",
      "dense_1 (Dense)              (None, 6)                 246       \n",
      "=================================================================\n",
      "Total params: 21,206\n",
      "Trainable params: 21,206\n",
      "Non-trainable params: 0\n",
      "_________________________________________________________________\n"
     ]
    }
   ],
   "source": [
    "# Initiliazing the sequential model\n",
    "model = Sequential()\n",
    "# Configuring the parameters\n",
    "model.add(LSTM(n_hidden, input_shape=(timesteps, input_dim), return_sequences=True))\n",
    "model.add(Dropout(0.6))\n",
    "model.add(LSTM(n_hidden, input_shape=(timesteps, input_dim)))\n",
    "# Adding a dropout layer\n",
    "model.add(Dropout(0.7))\n",
    "# Adding a dense output layer with sigmoid activation\n",
    "model.add(Dense(n_classes, activation='sigmoid'))\n",
    "model.summary()"
   ]
  },
  {
   "cell_type": "code",
   "execution_count": 19,
   "metadata": {},
   "outputs": [],
   "source": [
    "# Compiling the model\n",
    "model.compile(loss='categorical_crossentropy',\n",
    "              optimizer='rmsprop',\n",
    "              metrics=['accuracy'])"
   ]
  },
  {
   "cell_type": "code",
   "execution_count": 20,
   "metadata": {
    "scrolled": true
   },
   "outputs": [
    {
     "name": "stdout",
     "output_type": "stream",
     "text": [
      "Train on 7352 samples, validate on 2947 samples\n",
      "Epoch 1/30\n",
      "7352/7352 [==============================] - 83s 11ms/step - loss: 1.2779 - acc: 0.4758 - val_loss: 1.1361 - val_acc: 0.5348\n",
      "Epoch 2/30\n",
      "7352/7352 [==============================] - 79s 11ms/step - loss: 0.9224 - acc: 0.5994 - val_loss: 0.8296 - val_acc: 0.6634\n",
      "Epoch 3/30\n",
      "7352/7352 [==============================] - 79s 11ms/step - loss: 0.7865 - acc: 0.6332 - val_loss: 0.7708 - val_acc: 0.6159\n",
      "Epoch 4/30\n",
      "7352/7352 [==============================] - 81s 11ms/step - loss: 0.7270 - acc: 0.6549 - val_loss: 0.8228 - val_acc: 0.6043\n",
      "Epoch 5/30\n",
      "7352/7352 [==============================] - 80s 11ms/step - loss: 0.7048 - acc: 0.6812 - val_loss: 0.7780 - val_acc: 0.6349\n",
      "Epoch 6/30\n",
      "7352/7352 [==============================] - 82s 11ms/step - loss: 0.6563 - acc: 0.7285 - val_loss: 0.6839 - val_acc: 0.7306\n",
      "Epoch 7/30\n",
      "7352/7352 [==============================] - 80s 11ms/step - loss: 0.5658 - acc: 0.7681 - val_loss: 0.7339 - val_acc: 0.7306\n",
      "Epoch 8/30\n",
      "7352/7352 [==============================] - 80s 11ms/step - loss: 0.4804 - acc: 0.8051 - val_loss: 0.8842 - val_acc: 0.7503\n",
      "Epoch 9/30\n",
      "7352/7352 [==============================] - 81s 11ms/step - loss: 0.4043 - acc: 0.8755 - val_loss: 0.8894 - val_acc: 0.8361\n",
      "Epoch 10/30\n",
      "7352/7352 [==============================] - 81s 11ms/step - loss: 0.3458 - acc: 0.9052 - val_loss: 0.5441 - val_acc: 0.8595\n",
      "Epoch 11/30\n",
      "7352/7352 [==============================] - 81s 11ms/step - loss: 0.3249 - acc: 0.9116 - val_loss: 0.5653 - val_acc: 0.8717\n",
      "Epoch 12/30\n",
      "7352/7352 [==============================] - 81s 11ms/step - loss: 0.2613 - acc: 0.9232 - val_loss: 0.5619 - val_acc: 0.8816\n",
      "Epoch 13/30\n",
      "7352/7352 [==============================] - 80s 11ms/step - loss: 0.2594 - acc: 0.9230 - val_loss: 0.5897 - val_acc: 0.8907\n",
      "Epoch 14/30\n",
      "7352/7352 [==============================] - 80s 11ms/step - loss: 0.2411 - acc: 0.9308 - val_loss: 0.5867 - val_acc: 0.8853\n",
      "Epoch 15/30\n",
      "7352/7352 [==============================] - 80s 11ms/step - loss: 0.2227 - acc: 0.9319 - val_loss: 0.5647 - val_acc: 0.8867\n",
      "Epoch 16/30\n",
      "7352/7352 [==============================] - 81s 11ms/step - loss: 0.2120 - acc: 0.9365 - val_loss: 0.5244 - val_acc: 0.9013\n",
      "Epoch 17/30\n",
      "7352/7352 [==============================] - 81s 11ms/step - loss: 0.2283 - acc: 0.9369 - val_loss: 0.5568 - val_acc: 0.8965\n",
      "Epoch 18/30\n",
      "7352/7352 [==============================] - 81s 11ms/step - loss: 0.2138 - acc: 0.9403 - val_loss: 0.5375 - val_acc: 0.8870\n",
      "Epoch 19/30\n",
      "7352/7352 [==============================] - 81s 11ms/step - loss: 0.2039 - acc: 0.9344 - val_loss: 0.6050 - val_acc: 0.8904\n",
      "Epoch 20/30\n",
      "7352/7352 [==============================] - 81s 11ms/step - loss: 0.2001 - acc: 0.9384 - val_loss: 0.5657 - val_acc: 0.8938\n",
      "Epoch 21/30\n",
      "7352/7352 [==============================] - 82s 11ms/step - loss: 0.1870 - acc: 0.9449 - val_loss: 0.6077 - val_acc: 0.8918\n",
      "Epoch 22/30\n",
      "7352/7352 [==============================] - 80s 11ms/step - loss: 0.2465 - acc: 0.9348 - val_loss: 0.6510 - val_acc: 0.9023\n",
      "Epoch 23/30\n",
      "7352/7352 [==============================] - 81s 11ms/step - loss: 0.2002 - acc: 0.9421 - val_loss: 0.5891 - val_acc: 0.8918\n",
      "Epoch 24/30\n",
      "7352/7352 [==============================] - 81s 11ms/step - loss: 0.1864 - acc: 0.9419 - val_loss: 0.5180 - val_acc: 0.8972\n",
      "Epoch 25/30\n",
      "7352/7352 [==============================] - 80s 11ms/step - loss: 0.1724 - acc: 0.9421 - val_loss: 0.7180 - val_acc: 0.8809\n",
      "Epoch 26/30\n",
      "7352/7352 [==============================] - 82s 11ms/step - loss: 0.2093 - acc: 0.9393 - val_loss: 0.4910 - val_acc: 0.9046\n",
      "Epoch 27/30\n",
      "7352/7352 [==============================] - 81s 11ms/step - loss: 0.1844 - acc: 0.9415 - val_loss: 0.5769 - val_acc: 0.9030\n",
      "Epoch 28/30\n",
      "7352/7352 [==============================] - 84s 11ms/step - loss: 0.2027 - acc: 0.9431 - val_loss: 0.6108 - val_acc: 0.9013\n",
      "Epoch 29/30\n",
      "7352/7352 [==============================] - 82s 11ms/step - loss: 0.2039 - acc: 0.9397 - val_loss: 0.7786 - val_acc: 0.8924\n",
      "Epoch 30/30\n",
      "7352/7352 [==============================] - 82s 11ms/step - loss: 0.1766 - acc: 0.9440 - val_loss: 0.6128 - val_acc: 0.9131\n"
     ]
    },
    {
     "data": {
      "text/plain": [
       "<keras.callbacks.History at 0x1ef4d6d0b70>"
      ]
     },
     "execution_count": 20,
     "metadata": {},
     "output_type": "execute_result"
    }
   ],
   "source": [
    "# Training the model\n",
    "model.fit(X_train,\n",
    "          Y_train,\n",
    "          batch_size=batch_size,\n",
    "          validation_data=(X_test, Y_test),\n",
    "          epochs=epochs)"
   ]
  },
  {
   "cell_type": "code",
   "execution_count": 21,
   "metadata": {},
   "outputs": [
    {
     "name": "stdout",
     "output_type": "stream",
     "text": [
      "Pred                LAYING  SITTING  STANDING  WALKING  WALKING_DOWNSTAIRS  \\\n",
      "True                                                                         \n",
      "LAYING                 510        0        27        0                   0   \n",
      "SITTING                  4      409        76        0                   0   \n",
      "STANDING                 0       77       450        5                   0   \n",
      "WALKING                  0        0         0      451                   8   \n",
      "WALKING_DOWNSTAIRS       0        0         0        0                 413   \n",
      "WALKING_UPSTAIRS         0        0         0        7                   6   \n",
      "\n",
      "Pred                WALKING_UPSTAIRS  \n",
      "True                                  \n",
      "LAYING                             0  \n",
      "SITTING                            2  \n",
      "STANDING                           0  \n",
      "WALKING                           37  \n",
      "WALKING_DOWNSTAIRS                 7  \n",
      "WALKING_UPSTAIRS                 458  \n"
     ]
    }
   ],
   "source": [
    "# Confusion Matrix\n",
    "print(confusion_matrix(Y_test, model.predict(X_test)))"
   ]
  },
  {
   "cell_type": "code",
   "execution_count": 22,
   "metadata": {},
   "outputs": [
    {
     "name": "stdout",
     "output_type": "stream",
     "text": [
      "2947/2947 [==============================] - 4s 1ms/step\n"
     ]
    }
   ],
   "source": [
    "score = model.evaluate(X_test, Y_test)"
   ]
  },
  {
   "cell_type": "code",
   "execution_count": 23,
   "metadata": {},
   "outputs": [
    {
     "data": {
      "text/plain": [
       "[0.612816263583536, 0.9131319986426875]"
      ]
     },
     "execution_count": 23,
     "metadata": {},
     "output_type": "execute_result"
    }
   ],
   "source": [
    "score"
   ]
  },
  {
   "cell_type": "code",
   "execution_count": 24,
   "metadata": {},
   "outputs": [],
   "source": [
    "# model history parameters\n",
    "\n",
    "history = model.history\n",
    "\n",
    "train_accuracy = history.history['acc']\n",
    "train_loss = history.history['loss']\n",
    "val_accuracy = history.history['val_acc']\n",
    "val_loss = history.history['val_loss']\n",
    "\n",
    "\n",
    "epochs = range(1, len(val_accuracy) + 1)"
   ]
  },
  {
   "cell_type": "code",
   "execution_count": 27,
   "metadata": {},
   "outputs": [
    {
     "data": {
      "image/png": "[encoded data removed]",
      "text/plain": [
       "<Figure size 432x288 with 1 Axes>"
      ]
     },
     "metadata": {},
     "output_type": "display_data"
    }
   ],
   "source": [
    "# plot showing  validation accuracy\n",
    "import matplotlib.pyplot as plt\n",
    "plt.plot(epochs, train_loss, 'g', label='Training Loss')\n",
    "plt.plot(epochs, val_loss, 'b', label='Validation Loss')\n",
    "\n",
    "#plt.plot(epochs, val_loss, label='Loss')\n",
    "\n",
    "plt.title('Training and Validation Loss')\n",
    "plt.xlabel('Epochs')\n",
    "plt.ylabel('Loss')\n",
    "\n",
    "plt.legend()\n",
    "plt.show()"
   ]
  },
  {
   "cell_type": "code",
   "execution_count": 28,
   "metadata": {},
   "outputs": [
    {
     "data": {
      "image/png": "[encoded data removed]",
      "text/plain": [
       "<Figure size 432x288 with 1 Axes>"
      ]
     },
     "metadata": {},
     "output_type": "display_data"
    }
   ],
   "source": [
    "# plot showing  validation accuracy\n",
    "\n",
    "plt.plot(epochs, train_accuracy, 'g', label='Training Accuracy')\n",
    "plt.plot(epochs, val_accuracy, 'b', label='Validation Accuracy')\n",
    "\n",
    "plt.title('Training and Validation Accuracy')\n",
    "#plt.plot(epochs, val_accuracy, label=' Accuracy')\n",
    "\n",
    "plt.title('Accuracy')\n",
    "plt.xlabel('Epochs')\n",
    "plt.ylabel('Accuracy')\n",
    "\n",
    "plt.legend()\n",
    "plt.show()"
   ]
  },
  {
   "cell_type": "markdown",
   "metadata": {},
   "source": [
    "## Summary\n",
    "Model with two LSTM layers ran for 30 epochs got accuracy of 92.02%"
   ]
  },
  {
   "cell_type": "code",
   "execution_count": null,
   "metadata": {},
   "outputs": [],
   "source": []
  }
 ],
 "metadata": {
  "kernelspec": {
   "display_name": "Python 3",
   "language": "python",
   "name": "python3"
  },
  "language_info": {
   "codemirror_mode": {
    "name": "ipython",
    "version": 3
   },
   "file_extension": ".py",
   "mimetype": "text/x-python",
   "name": "python",
   "nbconvert_exporter": "python",
   "pygments_lexer": "ipython3",
   "version": "3.6.5"
  }
 },
 "nbformat": 4,
 "nbformat_minor": 2
}
